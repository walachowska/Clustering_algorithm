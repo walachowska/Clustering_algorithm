{
 "cells": [
  {
   "cell_type": "markdown",
   "source": [
    "### Clustering Algorithm\n",
    "##### Customer Segmentation based on marketing_campaign.csv"
   ],
   "metadata": {
    "collapsed": false
   },
   "id": "2a4662f0bf647bfb"
  },
  {
   "cell_type": "markdown",
   "source": [
    "### Data Analysis"
   ],
   "metadata": {
    "collapsed": false
   },
   "id": "86d9eb49eca52747"
  },
  {
   "cell_type": "code",
   "execution_count": 2,
   "outputs": [
    {
     "name": "stdout",
     "output_type": "stream",
     "text": [
      "First 10 rows:\n",
      "     ID  Year_Birth   Education Marital_Status   Income  Kidhome  Teenhome  \\\n",
      "0  5524        1957  Graduation         Single  58138.0        0         0   \n",
      "1  2174        1954  Graduation         Single  46344.0        1         1   \n",
      "2  4141        1965  Graduation       Together  71613.0        0         0   \n",
      "3  6182        1984  Graduation       Together  26646.0        1         0   \n",
      "4  5324        1981         PhD        Married  58293.0        1         0   \n",
      "5  7446        1967      Master       Together  62513.0        0         1   \n",
      "6   965        1971  Graduation       Divorced  55635.0        0         1   \n",
      "7  6177        1985         PhD        Married  33454.0        1         0   \n",
      "8  4855        1974         PhD       Together  30351.0        1         0   \n",
      "9  5899        1950         PhD       Together   5648.0        1         1   \n",
      "\n",
      "  Dt_Customer  Recency  MntWines  ...  NumWebVisitsMonth  AcceptedCmp3  \\\n",
      "0  04-09-2012       58       635  ...                  7             0   \n",
      "1  08-03-2014       38        11  ...                  5             0   \n",
      "2  21-08-2013       26       426  ...                  4             0   \n",
      "3  10-02-2014       26        11  ...                  6             0   \n",
      "4  19-01-2014       94       173  ...                  5             0   \n",
      "5  09-09-2013       16       520  ...                  6             0   \n",
      "6  13-11-2012       34       235  ...                  6             0   \n",
      "7  08-05-2013       32        76  ...                  8             0   \n",
      "8  06-06-2013       19        14  ...                  9             0   \n",
      "9  13-03-2014       68        28  ...                 20             1   \n",
      "\n",
      "   AcceptedCmp4  AcceptedCmp5  AcceptedCmp1  AcceptedCmp2  Complain  \\\n",
      "0             0             0             0             0         0   \n",
      "1             0             0             0             0         0   \n",
      "2             0             0             0             0         0   \n",
      "3             0             0             0             0         0   \n",
      "4             0             0             0             0         0   \n",
      "5             0             0             0             0         0   \n",
      "6             0             0             0             0         0   \n",
      "7             0             0             0             0         0   \n",
      "8             0             0             0             0         0   \n",
      "9             0             0             0             0         0   \n",
      "\n",
      "   Z_CostContact  Z_Revenue  Response  \n",
      "0              3         11         1  \n",
      "1              3         11         0  \n",
      "2              3         11         0  \n",
      "3              3         11         0  \n",
      "4              3         11         0  \n",
      "5              3         11         0  \n",
      "6              3         11         0  \n",
      "7              3         11         0  \n",
      "8              3         11         1  \n",
      "9              3         11         0  \n",
      "\n",
      "[10 rows x 29 columns]\n",
      "\n",
      "Number of nulls:\n",
      "ID                      0\n",
      "Year_Birth              0\n",
      "Education               0\n",
      "Marital_Status          0\n",
      "Income                 24\n",
      "Kidhome                 0\n",
      "Teenhome                0\n",
      "Dt_Customer             0\n",
      "Recency                 0\n",
      "MntWines                0\n",
      "MntFruits               0\n",
      "MntMeatProducts         0\n",
      "MntFishProducts         0\n",
      "MntSweetProducts        0\n",
      "MntGoldProds            0\n",
      "NumDealsPurchases       0\n",
      "NumWebPurchases         0\n",
      "NumCatalogPurchases     0\n",
      "NumStorePurchases       0\n",
      "NumWebVisitsMonth       0\n",
      "AcceptedCmp3            0\n",
      "AcceptedCmp4            0\n",
      "AcceptedCmp5            0\n",
      "AcceptedCmp1            0\n",
      "AcceptedCmp2            0\n",
      "Complain                0\n",
      "Z_CostContact           0\n",
      "Z_Revenue               0\n",
      "Response                0\n",
      "dtype: int64\n",
      "\n",
      "Types of data:\n",
      "ID                       int64\n",
      "Year_Birth               int64\n",
      "Education               object\n",
      "Marital_Status          object\n",
      "Income                 float64\n",
      "Kidhome                  int64\n",
      "Teenhome                 int64\n",
      "Dt_Customer             object\n",
      "Recency                  int64\n",
      "MntWines                 int64\n",
      "MntFruits                int64\n",
      "MntMeatProducts          int64\n",
      "MntFishProducts          int64\n",
      "MntSweetProducts         int64\n",
      "MntGoldProds             int64\n",
      "NumDealsPurchases        int64\n",
      "NumWebPurchases          int64\n",
      "NumCatalogPurchases      int64\n",
      "NumStorePurchases        int64\n",
      "NumWebVisitsMonth        int64\n",
      "AcceptedCmp3             int64\n",
      "AcceptedCmp4             int64\n",
      "AcceptedCmp5             int64\n",
      "AcceptedCmp1             int64\n",
      "AcceptedCmp2             int64\n",
      "Complain                 int64\n",
      "Z_CostContact            int64\n",
      "Z_Revenue                int64\n",
      "Response                 int64\n",
      "dtype: object\n"
     ]
    }
   ],
   "source": [
    "import pandas as pd\n",
    "\n",
    "file_path = 'marketing_campaign.csv'\n",
    "data = pd.read_csv(file_path, sep='\\t')\n",
    "num_records, num_features = data.shape\n",
    "print(\"First 10 rows:\")\n",
    "print(data.head(10))\n",
    "null_values = data.isnull().sum()\n",
    "print(\"\\nNumber of nulls:\")\n",
    "print(null_values)\n",
    "print(\"\\nTypes of data:\")\n",
    "print(data.dtypes)\n"
   ],
   "metadata": {
    "collapsed": false,
    "ExecuteTime": {
     "end_time": "2024-01-18T15:28:19.187555Z",
     "start_time": "2024-01-18T15:28:19.170325Z"
    }
   },
   "id": "75e1bf94c910d1e0"
  },
  {
   "cell_type": "markdown",
   "source": [
    "#### Data Processing"
   ],
   "metadata": {
    "collapsed": false
   },
   "id": "3735fc052b24f726"
  },
  {
   "cell_type": "code",
   "execution_count": 3,
   "outputs": [
    {
     "name": "stdout",
     "output_type": "stream",
     "text": [
      "Number of records: 2216, number of features: 26\n",
      "Number of null values: 0\n"
     ]
    }
   ],
   "source": [
    "# Cleaning Data\n",
    "# Drop null values\n",
    "data_cleaned = data.dropna().copy()\n",
    "# New attribute [Age] = 2023 - Year_Birth \n",
    "data_cleaned['Age'] = 2023 - data_cleaned['Year_Birth']\n",
    "# New attribute [TotalAmountSpent]\n",
    "data_cleaned['TotalAmountSpent'] = data_cleaned['MntFishProducts'] + data_cleaned['MntFruits'] + data_cleaned['MntGoldProds'] + data_cleaned['MntSweetProducts'] + data_cleaned['MntMeatProducts'] + data_cleaned['MntWines']\n",
    "# Drop symbolic values\n",
    "data_processed = data_cleaned.drop(['ID', 'Education', 'Marital_Status', 'Dt_Customer', 'Year_Birth'], axis=1)\n",
    "# Show\n",
    "num_records_processed, num_features_processed = data_processed.shape\n",
    "print(f\"Number of records: {num_records_processed}, number of features: {num_features_processed}\")\n",
    "null_values = data_processed.isnull().sum().sum()\n",
    "print(f\"Number of null values: {null_values}\")\n"
   ],
   "metadata": {
    "collapsed": false,
    "ExecuteTime": {
     "end_time": "2024-01-18T16:12:42.453413Z",
     "start_time": "2024-01-18T16:12:42.427331Z"
    }
   },
   "id": "8b7ed7db923057cb"
  },
  {
   "cell_type": "code",
   "execution_count": 5,
   "outputs": [],
   "source": [
    "from sklearn.preprocessing import StandardScaler\n",
    "\n",
    "# Data standardization\n",
    "scaler = StandardScaler()\n",
    "data_normalized_standard = scaler.fit_transform(data_processed)"
   ],
   "metadata": {
    "collapsed": false,
    "ExecuteTime": {
     "end_time": "2024-01-18T16:21:55.934239Z",
     "start_time": "2024-01-18T16:21:55.929920Z"
    }
   },
   "id": "5c71fd2a493223be"
  },
  {
   "cell_type": "markdown",
   "source": [],
   "metadata": {
    "collapsed": false
   },
   "id": "95787cfc633e5008"
  }
 ],
 "metadata": {
  "kernelspec": {
   "display_name": "Python 3",
   "language": "python",
   "name": "python3"
  },
  "language_info": {
   "codemirror_mode": {
    "name": "ipython",
    "version": 2
   },
   "file_extension": ".py",
   "mimetype": "text/x-python",
   "name": "python",
   "nbconvert_exporter": "python",
   "pygments_lexer": "ipython2",
   "version": "2.7.6"
  }
 },
 "nbformat": 4,
 "nbformat_minor": 5
}
